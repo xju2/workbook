{
 "cells": [
  {
   "cell_type": "code",
   "execution_count": 1,
   "id": "44f81452",
   "metadata": {},
   "outputs": [],
   "source": [
    "%load_ext autoreload\n",
    "%autoreload 2"
   ]
  },
  {
   "cell_type": "code",
   "execution_count": 2,
   "id": "5c682d12",
   "metadata": {},
   "outputs": [],
   "source": [
    "from transformers import AutoTokenizer, BertForMaskedLM\n",
    "import transformers"
   ]
  },
  {
   "cell_type": "code",
   "execution_count": 3,
   "id": "c10c0c06",
   "metadata": {},
   "outputs": [
    {
     "data": {
      "application/vnd.jupyter.widget-view+json": {
       "model_id": "4d6b86af3bb54aca976bdac2ad5bf531",
       "version_major": 2,
       "version_minor": 0
      },
      "text/plain": [
       "tokenizer_config.json:   0%|          | 0.00/48.0 [00:00<?, ?B/s]"
      ]
     },
     "metadata": {},
     "output_type": "display_data"
    },
    {
     "data": {
      "application/vnd.jupyter.widget-view+json": {
       "model_id": "a1494d6a17c644d1b9b51d98a7b814d3",
       "version_major": 2,
       "version_minor": 0
      },
      "text/plain": [
       "config.json:   0%|          | 0.00/570 [00:00<?, ?B/s]"
      ]
     },
     "metadata": {},
     "output_type": "display_data"
    },
    {
     "data": {
      "application/vnd.jupyter.widget-view+json": {
       "model_id": "10e0f4744be548efb6823df2249e2ffd",
       "version_major": 2,
       "version_minor": 0
      },
      "text/plain": [
       "vocab.txt: 0.00B [00:00, ?B/s]"
      ]
     },
     "metadata": {},
     "output_type": "display_data"
    },
    {
     "data": {
      "application/vnd.jupyter.widget-view+json": {
       "model_id": "17bb7dfb3d684324b075d42e79b23ba1",
       "version_major": 2,
       "version_minor": 0
      },
      "text/plain": [
       "tokenizer.json: 0.00B [00:00, ?B/s]"
      ]
     },
     "metadata": {},
     "output_type": "display_data"
    }
   ],
   "source": [
    "tokenizer = AutoTokenizer.from_pretrained(\"google-bert/bert-base-uncased\")"
   ]
  },
  {
   "cell_type": "code",
   "execution_count": 4,
   "id": "41725679",
   "metadata": {},
   "outputs": [
    {
     "name": "stdout",
     "output_type": "stream",
     "text": [
      "103 [MASK]\n",
      "101 [CLS]\n",
      "0 [PAD]\n",
      "102 [SEP]\n",
      "100 [UNK]\n"
     ]
    }
   ],
   "source": [
    "print(tokenizer.mask_token_id, tokenizer.decode([tokenizer.mask_token_id]))\n",
    "print(tokenizer.cls_token_id, tokenizer.decode([tokenizer.cls_token_id]))\n",
    "print(tokenizer.pad_token_type_id, tokenizer.decode([tokenizer.pad_token_type_id]))\n",
    "print(tokenizer.sep_token_id, tokenizer.decode([tokenizer.sep_token_id]))\n",
    "print(tokenizer.unk_token_id, tokenizer.decode([tokenizer.unk_token_id]))"
   ]
  },
  {
   "cell_type": "code",
   "execution_count": 5,
   "id": "46a1ce5b",
   "metadata": {},
   "outputs": [
    {
     "name": "stdout",
     "output_type": "stream",
     "text": [
      "0 [PAD]\n",
      "100 [UNK]\n",
      "101 [CLS]\n",
      "102 [SEP]\n",
      "103 [MASK]\n",
      "999 !\n",
      "1000 \"\n",
      "1001 #\n",
      "1002 $\n",
      "1003 %\n",
      "1004 &\n",
      "1005 '\n",
      "1006 (\n",
      "1007 )\n",
      "1008 *\n",
      "1009 +\n",
      "num_unused: 994\n"
     ]
    }
   ],
   "source": [
    "num_unused = 0\n",
    "for idx in range(1010):\n",
    "    token = tokenizer.decode([idx])\n",
    "    if \"unused\" in token:\n",
    "        num_unused += 1\n",
    "    else:\n",
    "        print(idx, token)\n",
    "print(f\"num_unused: {num_unused}\")"
   ]
  }
 ],
 "metadata": {
  "kernelspec": {
   "display_name": "fundra-py3.12",
   "language": "python",
   "name": "python3"
  },
  "language_info": {
   "codemirror_mode": {
    "name": "ipython",
    "version": 3
   },
   "file_extension": ".py",
   "mimetype": "text/x-python",
   "name": "python",
   "nbconvert_exporter": "python",
   "pygments_lexer": "ipython3",
   "version": "3.12.3"
  }
 },
 "nbformat": 4,
 "nbformat_minor": 5
}
